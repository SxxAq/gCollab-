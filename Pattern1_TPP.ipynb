{
  "nbformat": 4,
  "nbformat_minor": 0,
  "metadata": {
    "colab": {
      "provenance": [],
      "authorship_tag": "ABX9TyN/FF8xnOdAH/T6umt4/xEP",
      "include_colab_link": true
    },
    "kernelspec": {
      "name": "python3",
      "display_name": "Python 3"
    },
    "language_info": {
      "name": "python"
    }
  },
  "cells": [
    {
      "cell_type": "markdown",
      "metadata": {
        "id": "view-in-github",
        "colab_type": "text"
      },
      "source": [
        "<a href=\"https://colab.research.google.com/github/SxxAq/gCollab-/blob/main/Pattern1_TPP.ipynb\" target=\"_parent\"><img src=\"https://colab.research.google.com/assets/colab-badge.svg\" alt=\"Open In Colab\"/></a>"
      ]
    },
    {
      "cell_type": "code",
      "execution_count": null,
      "metadata": {
        "colab": {
          "base_uri": "https://localhost:8080/"
        },
        "id": "HyMWjzopzisR",
        "outputId": "d228ff9d-b76c-46b5-9c74-0c9c462e6f89"
      },
      "outputs": [
        {
          "output_type": "stream",
          "name": "stdout",
          "text": [
            "Enter Range: 10\n",
            "\n",
            "1 \n",
            "2 3 \n",
            "4 5 6 \n",
            "7 8 9 10 \n",
            "11 12 13 14 15 \n",
            "16 17 18 19 20 21 \n",
            "22 23 24 25 26 27 28 \n",
            "29 30 31 32 33 34 35 36 \n",
            "37 38 39 40 41 42 43 44 45 \n",
            "46 47 48 49 50 51 52 53 54 55 \n"
          ]
        }
      ],
      "source": [
        "n=int(input(\"Enter Range: \"))\n",
        "count=1\n",
        "for i in range(0, n+1):\n",
        "  for j in range(0, i):\n",
        "    print(count, end=\" \")\n",
        "    count+=1\n",
        "  print()"
      ]
    }
  ]
}