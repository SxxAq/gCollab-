{
  "nbformat": 4,
  "nbformat_minor": 0,
  "metadata": {
    "colab": {
      "provenance": [],
      "authorship_tag": "ABX9TyONGJtWiaql0FzpqO49Spwf",
      "include_colab_link": true
    },
    "kernelspec": {
      "name": "python3",
      "display_name": "Python 3"
    },
    "language_info": {
      "name": "python"
    }
  },
  "cells": [
    {
      "cell_type": "markdown",
      "metadata": {
        "id": "view-in-github",
        "colab_type": "text"
      },
      "source": [
        "<a href=\"https://colab.research.google.com/github/SxxAq/gCollab-/blob/main/Fibonacci_TPP.ipynb\" target=\"_parent\"><img src=\"https://colab.research.google.com/assets/colab-badge.svg\" alt=\"Open In Colab\"/></a>"
      ]
    },
    {
      "cell_type": "code",
      "source": [
        "nTerms=int(input(\"Enter number of terms you want to print: \"))\n",
        "n1=0\n",
        "n2=1\n",
        "if nTerms<=0:\n",
        "  print(\"Please enter positive number. \")\n",
        "elif nTerms==1:\n",
        "  print(\"Fibonacci sequence upto \", nTerms, \"is : \", n1)\n",
        "else:\n",
        "  print(\"Fibonacci sequence upto \", nTerms, \"is: \")\n",
        "  print(n1, end=\" \")\n",
        "  print(n2, end=\" \")\n",
        "  for i in range(2, nTerms):\n",
        "    n3 = n1 + n2\n",
        "    n1 = n2\n",
        "    n2 = n3\n",
        "    \n",
        "    print(n3, end=\" \")\n",
        "\n",
        "\n"
      ],
      "metadata": {
        "colab": {
          "base_uri": "https://localhost:8080/"
        },
        "id": "wBjzbFZ9umMF",
        "outputId": "0ec80773-91be-4868-ce5f-85c2d43ba8b6"
      },
      "execution_count": 14,
      "outputs": [
        {
          "output_type": "stream",
          "name": "stdout",
          "text": [
            "Enter number of terms you want to print: 10\n",
            "Fibonacci sequence upto  10 is: \n",
            "0 1 1 2 3 5 8 13 21 34 "
          ]
        }
      ]
    }
  ]
}